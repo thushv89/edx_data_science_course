{
 "cells": [
  {
   "cell_type": "markdown",
   "metadata": {},
   "source": [
    "# Unix"
   ]
  },
  {
   "cell_type": "code",
   "execution_count": 1,
   "metadata": {},
   "outputs": [
    {
     "data": {
      "text/plain": [
       "31536000"
      ]
     },
     "execution_count": 1,
     "metadata": {},
     "output_type": "execute_result"
    }
   ],
   "source": [
    "365*24*60*60"
   ]
  },
  {
   "cell_type": "code",
   "execution_count": 2,
   "metadata": {},
   "outputs": [
    {
     "data": {
      "text/plain": [
       "31.536"
      ]
     },
     "execution_count": 2,
     "metadata": {},
     "output_type": "execute_result"
    }
   ],
   "source": [
    "_ / 1e6 # _ refers to output of last cell"
   ]
  },
  {
   "cell_type": "code",
   "execution_count": 3,
   "metadata": {},
   "outputs": [
    {
     "name": "stdout",
     "output_type": "stream",
     "text": [
      "total 820\r\n",
      "-rw-rw-r-- 1 thushv89 thushv89 806878 May 29  2017 98-0.txt\r\n",
      "-rw-rw-r-- 1 thushv89 thushv89   7035 Jul 26 14:48 lesson_1_2.ipynb\r\n",
      "-rw-rw-r-- 1 thushv89 thushv89   4638 Jul 26 12:13 lesson_1.ipynb\r\n",
      "-rw-rw-r-- 1 thushv89 thushv89   1309 Jul 26 16:11 lesson_2_1.ipynb\r\n",
      "-rw-rw-r-- 1 thushv89 thushv89   1006 May 29  2017 stopwords\r\n",
      "-rw-rw-r-- 1 thushv89 thushv89   5754 Jul 26 15:58 word_count_exercise.ipynb\r\n"
     ]
    }
   ],
   "source": [
    "!ls -l"
   ]
  },
  {
   "cell_type": "code",
   "execution_count": 5,
   "metadata": {},
   "outputs": [
    {
     "name": "stdout",
     "output_type": "stream",
     "text": [
      "../\r\n"
     ]
    }
   ],
   "source": [
    "!ls -d ../"
   ]
  },
  {
   "cell_type": "code",
   "execution_count": 6,
   "metadata": {},
   "outputs": [
    {
     "name": "stdout",
     "output_type": "stream",
     "text": [
      "﻿The Project Gutenberg EBook of A Tale of Two Cities, by Charles Dickens\n",
      "Author: Charles Dickens\n",
      "By Charles Dickens\n",
      "Silence in the court! Charles Darnay had yesterday pleaded Not Guilty to\n",
      "the aforesaid, and over and over again aforesaid, Charles Darnay, stood\n",
      "Charles Darnay--just released--congratulating him on his escape from\n",
      "“I hardly seem yet,” returned Charles Darnay, “to belong to this world\n",
      "shown into a little room, where Charles Darnay was soon recruiting\n",
      "this Double of coarse deportment, to be like a dream, Charles Darnay was\n",
      "The bill being paid, Charles Darnay rose and wished him good night.\n",
      "towards Charles Darnay, the same singular look that had been upon it\n",
      "“Monsieur Charles, whom I expect; is he arrived from England?”\n",
      "He had been known in England as Charles Darnay.\n",
      "Monsieur Charles, I see.”\n",
      "More months, to the number of twelve, had come and gone, and Mr. Charles\n",
      "invariably gone one way--Charles Darnay’s way--the way of the love of a\n",
      "ease, and was equably cheerful. To him, now entered Charles Darnay, at\n",
      "“Charles Darnay! I rejoice to see you. We have been counting on your\n",
      "to hear her spoken of in that tone of yours, Charles Darnay.”\n",
      "originated in an unwillingness to approach the subject, that Charles\n",
      "His cry was so like a cry of actual pain, that it rang in Charles\n",
      "“You speak so feelingly and so manfully, Charles Darnay, that I thank\n",
      "“I am sure of it. Charles Darnay, mysteries arise out of close love, as\n",
      "If there were--Charles Darnay, if there were--”\n",
      "It was dark when Charles Darnay left him, and it was an hour later and\n",
      "Mr. Charles Darnay. D’Aulnais is the name of his mother’s family.”\n",
      "love that Heaven has so blessed--my love for Charles, and Charles’s love\n",
      "“If I had never seen Charles, my father, I should have been quite happy\n",
      "without Charles, having seen him; and replied:\n",
      "“My child, you did see him, and it is Charles. If it had not been\n",
      "Charles, it would have been another. Or, if it had been no other, I\n",
      "three at table, and Miss Pross made the third. He regretted that Charles\n",
      "closed door of the Doctor’s room, where he was speaking with Charles\n",
      "on my friend Mr. Charles!”\n",
      "The door of the Doctor’s room opened, and he came out with Charles\n",
      "eyes looked on, Charles Darnay and Lucie Manette were happily married.\n",
      "enfolding arms, “Take her, Charles! She is yours!”\n",
      "about him, which was new to the observation of Charles Darnay.\n",
      "Charles Darnay--as was natural--asked him, in all good-humour and\n",
      "Pross, the Doctor, and Mr. Lorry, Charles Darnay made some mention of\n",
      "“Yes, dearest Charles,” with her hands on his breast, and the inquiring\n",
      "“I think, Charles, poor Mr. Carton deserves more consideration and\n",
      "“It is a painful reflection to me,” said Charles Darnay, quite\n",
      "On a steaming, misty afternoon, Mr. Lorry sat at his desk, and Charles\n",
      "“But, although you are the youngest man that ever lived,” said Charles\n",
      "“My dear Charles,” said Mr. Lorry, with cheerful confidence, “you touch\n",
      "“I wish I were going myself,” said Charles Darnay, somewhat restlessly,\n",
      "“However, I am not going,” said Charles Darnay, with a smile. “It is\n",
      "“And I am, in plain reality. The truth is, my dear Charles,” Mr. Lorry\n",
      "“Tut! Nonsense, sir!--And, my dear Charles,” said Mr. Lorry, glancing at\n",
      "already made Charles Darnay restless, and which still kept him so.\n",
      "express request to Charles Darnay, that the secret of this name should\n",
      "his hearers. Mr. Lorry and Charles Darnay were left alone at the desk,\n",
      "This favoured the desperate resolution Charles Darnay had begun to make,\n",
      "“I have delivered that letter,” said Charles Darnay to Mr. Lorry. “I\n",
      " Charles Darnay shook his head and doubtfully smiled, as the carriage\n",
      "A very few French leagues of his journey were accomplished, when Charles\n",
      "“I have no choice,” said Charles Darnay.\n",
      "his musket very recklessly, Charles Darnay did not allow the restraint\n",
      "Naturally struck by the disagreeable word, Charles Darnay requested the\n",
      "gate. Looking about him while in this state of suspense, Charles\n",
      "Charles Darnay felt it hopeless to entreat him further, and his pride\n",
      "it known to Charles Darnay that the king was in prison, and that the\n",
      "He stuck the paper on a file, in an ill-humour, and Charles Darnay\n",
      "misery through which they were seen, that Charles Darnay seemed to stand\n",
      "Charles Darnay roused himself, and gave the required information, in\n",
      "There was a murmur of commiseration as Charles Darnay crossed the room\n",
      "“Charles.”\n",
      "“What of Charles?”\n",
      "barrier, and gained us news of Charles there, and brought us here. I\n",
      "knew it would be so; I knew I could help Charles out of all danger; I\n",
      "having happened to Charles; that I had no suspicion even of his being in\n",
      "to do for Charles’s sake, is the hardest thing to do of all. You must\n",
      "this, and as he foresaw that even if it were all well with Charles, and\n",
      "    “Charles is safe, but I cannot safely leave this place yet.\n",
      "     from Charles to his wife.  Let the bearer see his wife.”\n",
      "to him to have Charles Darnay brought before the lawless Court, and\n",
      "that old trial with forces to which they both looked for Charles’s\n",
      "Charles Darnay set at liberty, or at least to get him brought to trial,\n",
      "away so fiercely, that Charles had lain in prison one year and three\n",
      "“My dear, there is an upper window in the prison, to which Charles can\n",
      "“it shall not be in vain. Charles is summoned for to-morrow.”\n",
      "“Charles Evremonde, called Darnay!”\n",
      "for those who were announced as being thus fatally recorded. Charles\n",
      "put to the bar before Charles Darnay’s name was called. All the fifteen\n",
      "“Charles Evremonde, called Darnay,” was at length arraigned.\n",
      "Charles Evremonde, called Darnay, was accused by the public prosecutor\n",
      "On these few steps of his dangerous way, Charles Darnay had set his foot\n",
      "“O dearest Charles, let me thank God for this on my knees as I have\n",
      "he had set himself, his promise was redeemed, he had saved Charles. Let\n",
      "because they were not rich, and Charles, throughout his imprisonment,\n",
      "employed to add to the list the name of Charles Evremonde, called\n",
      "“I fear not yet. It would be dangerous for Charles yet.”\n",
      "“Oh father, father. What can this be! Hide Charles. Save him!”\n",
      "Charles Evremonde, called Darnay. Released yesterday. Reaccused and\n",
      "privileges to the infamous oppression of the people. Charles Evremonde,\n",
      "sake. Thou wilt be faithful, little Charles?’ The child answered her\n",
      "“I can bear it, dear Charles. I am supported from above: don’t suffer\n",
      "“Nothing connected with Charles was concealed from me. I had the\n",
      "mediation might save Charles, but they were very slight. He had been\n",
      "Charles Darnay, alone in a cell, had sustained himself with no\n",
      "End of the Project Gutenberg EBook of A Tale of Two Cities, by Charles Dickens\n"
     ]
    }
   ],
   "source": [
    "!grep -i \"Charles\" 98-0.txt "
   ]
  },
  {
   "cell_type": "code",
   "execution_count": 7,
   "metadata": {},
   "outputs": [
    {
     "name": "stdout",
     "output_type": "stream",
     "text": [
      "102\r\n"
     ]
    }
   ],
   "source": [
    "# concatenate files or print content of them\n",
    "!cat 98-0.txt | grep -i \"Charles\" | wc -l\n"
   ]
  },
  {
   "cell_type": "code",
   "execution_count": 8,
   "metadata": {},
   "outputs": [
    {
     "name": "stdout",
     "output_type": "stream",
     "text": [
      "\r",
      "\r\n",
      "almost no restrictions whatsoever.  You may copy it, give it away or\r",
      "\r\n",
      "re-use it under the terms of the Project Gutenberg License included\r",
      "\r\n",
      "﻿The Project Gutenberg EBook of A Tale of Two Cities, by Charles Dickens\r",
      "\r\n",
      "This eBook is for the use of anyone anywhere at no cost and with\r",
      "\r\n"
     ]
    }
   ],
   "source": [
    "!head -n 5 98-0.txt | sort # -f case sensitive -k<int> the index of words used to sort"
   ]
  },
  {
   "cell_type": "code",
   "execution_count": null,
   "metadata": {
    "collapsed": true
   },
   "outputs": [],
   "source": []
  }
 ],
 "metadata": {
  "kernelspec": {
   "display_name": "Python 3",
   "language": "python",
   "name": "python3"
  },
  "language_info": {
   "codemirror_mode": {
    "name": "ipython",
    "version": 3
   },
   "file_extension": ".py",
   "mimetype": "text/x-python",
   "name": "python",
   "nbconvert_exporter": "python",
   "pygments_lexer": "ipython3",
   "version": "3.4.3"
  }
 },
 "nbformat": 4,
 "nbformat_minor": 2
}
