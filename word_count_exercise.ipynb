{
 "cells": [
  {
   "cell_type": "code",
   "execution_count": 22,
   "metadata": {},
   "outputs": [
    {
     "name": "stdout",
     "output_type": "stream",
     "text": [
      "Original text size: 126989\n",
      "\n",
      "Size after making lower case and removing punctuation: 143687\n",
      "\n",
      "Sample words:\n",
      "['\\ufeffthe', 'project', 'gutenberg', 'ebook', 'of', 'a', 'tale', 'of', 'two', 'cities', 'by', 'charles', 'dickens', 'this', 'ebook', 'is', 'for', 'the', 'use', 'of', 'anyone', 'anywhere', 'at', 'no', 'cost', 'and', 'with', 'almost', 'no', 'restrictions', 'whatsoever', 'you', 'may', 'copy', 'it', 'give', 'it', 'away', 'or', 're-use', 'it', 'under', 'the', 'terms', 'of', 'the', 'project', 'gutenberg', 'license', 'included', 'with', 'this', 'ebook', 'or', 'online', 'at', 'www', 'gutenberg', 'org', 'title:', 'a', 'tale', 'of', 'two', 'cities', 'a', 'story', 'of', 'the', 'french', 'revolution', 'author:', 'charles', 'dickens', 'release', 'date:', 'january', '1994', '[ebook', '#98]', 'posting', 'date:', 'november', '28', '2009', 'last', 'updated:', 'september', '25', '2016', 'language:', 'english', 'character', 'set', 'encoding:', 'utf-8', '***', 'start', 'of', 'this']\n",
      "\n",
      "Stop words:  ['a', 'about', 'above', 'after', 'again', 'against', 'all', 'am', 'an', 'and', 'any', 'are', \"aren't\", 'as', 'at', 'be', 'because', 'been', 'before', 'being', 'below', 'between', 'both', 'but', 'by', 'can', \"can't\", 'cannot', 'com', 'could', \"couldn't\", 'did', \"didn't\", 'do', 'does', \"doesn't\", 'doing', \"don't\", 'down', 'during', 'each', 'else', 'ever', 'few', 'for', 'from', 'further', 'get', 'had', \"hadn't\", 'has', \"hasn't\", 'have', \"haven't\", 'having', 'he', \"he'd\", \"he'll\", \"he's\", 'her', 'here', \"here's\", 'hers', 'herself', 'him', 'himself', 'his', 'how', \"how's\", 'http', 'i', \"i'd\", \"i'll\", \"i'm\", \"i've\", 'if', 'in', 'into', 'is', \"isn't\", 'it', \"it's\", 'its', 'itself', 'just', 'k', \"let's\", 'like', 'me', 'more', 'most', \"mustn't\", 'my', 'myself', 'no', 'nor', 'not', 'of', 'off', 'on', 'once', 'only', 'or', 'other', 'ought', 'our', 'ours', 'ourselves', 'out', 'over', 'own', 'r', 'same', 'shall', \"shan't\", 'she', \"she'd\", \"she'll\", \"she's\", 'should', \"shouldn't\", 'so', 'some', 'such', 'than', 'that', \"that's\", 'the', 'their', 'theirs', 'them', 'themselves', 'then', 'there', \"there's\", 'these', 'they', \"they'd\", \"they'll\", \"they're\", \"they've\", 'this', 'those', 'through', 'to', 'too', 'under', 'until', 'up', 'very', 'was', \"wasn't\", 'we', \"we'd\", \"we'll\", \"we're\", \"we've\", 'were', \"weren't\", 'what', \"what's\", 'when', \"when's\", 'where', \"where's\", 'which', 'while', 'who', \"who's\", 'whom', 'why', \"why's\", 'with', \"won't\", 'would', \"wouldn't\", 'www', 'you', \"you'd\", \"you'll\", \"you're\", \"you've\", 'your', 'yours', 'yourself', 'yourselves']\n",
      "\n",
      "Size after removing stop words: 70969\n",
      "\n"
     ]
    }
   ],
   "source": [
    "import re\n",
    "\n",
    "# Read the file and have it as a stirng\n",
    "with open('98-0.txt','r') as f:\n",
    "    story_str = f.read()\n",
    "\n",
    "print('Original text size: {:d}\\n'.format(len(story_str.split(' '))))\n",
    "# make it lower case\n",
    "lower_str = story_str.lower()\n",
    "\n",
    "# strip\n",
    "lower_str = lower_str.strip()\n",
    "\n",
    "clean_str = re.sub('[.,\"“”\\n]\\s*',' ', lower_str)\n",
    "\n",
    "str_tokens = clean_str.split(' ')\n",
    "\n",
    "print('Size after making lower case and removing punctuation: {:d}\\n'.format(len(str_tokens)))\n",
    "\n",
    "print('Sample words:')\n",
    "print(str_tokens[:100])\n",
    "\n",
    "# reading in stop words\n",
    "stop_words = list()\n",
    "with open('stopwords','r') as f:\n",
    "    for w in f.readlines():\n",
    "        stop_words.append(w.strip())\n",
    "        \n",
    "print('\\nStop words: ', stop_words)\n",
    "\n",
    "nonstop_words = []\n",
    "for w in str_tokens:\n",
    "    if w not in stop_words:        \n",
    "        nonstop_words.append(w)\n",
    "            \n",
    "\n",
    "print('\\nSize after removing stop words: {:d}\\n'.format(len(nonstop_words)))\n",
    "    "
   ]
  },
  {
   "cell_type": "code",
   "execution_count": 23,
   "metadata": {},
   "outputs": [
    {
     "name": "stdout",
     "output_type": "stream",
     "text": [
      "[('', 4598), ('said', 643), ('mr', 616), ('one', 426), ('lorry', 323), ('will', 294), ('upon', 290), ('man', 268), ('defarge', 266), ('little', 265)]\n"
     ]
    }
   ],
   "source": [
    "word_count = {}\n",
    "for w in nonstop_words:\n",
    "    if w not in word_count:\n",
    "        word_count[w] = 1\n",
    "    else:\n",
    "        word_count[w] += 1\n",
    "        \n",
    "\n",
    "import collections\n",
    "\n",
    "word_counts_2 = collections.Counter(nonstop_words)\n",
    "#print(word_counts_2)\n",
    "\n",
    "print(word_counts_2.most_common(10))"
   ]
  },
  {
   "cell_type": "code",
   "execution_count": null,
   "metadata": {
    "collapsed": true
   },
   "outputs": [],
   "source": []
  },
  {
   "cell_type": "code",
   "execution_count": null,
   "metadata": {
    "collapsed": true
   },
   "outputs": [],
   "source": []
  }
 ],
 "metadata": {
  "kernelspec": {
   "display_name": "Python 3",
   "language": "python",
   "name": "python3"
  },
  "language_info": {
   "codemirror_mode": {
    "name": "ipython",
    "version": 3
   },
   "file_extension": ".py",
   "mimetype": "text/x-python",
   "name": "python",
   "nbconvert_exporter": "python",
   "pygments_lexer": "ipython3",
   "version": "3.4.3"
  }
 },
 "nbformat": 4,
 "nbformat_minor": 2
}
