{
 "cells": [
  {
   "cell_type": "code",
   "execution_count": 1,
   "metadata": {
    "collapsed": true
   },
   "outputs": [],
   "source": [
    "# Python dynamically typed language\n",
    "# no specific types attached\n",
    "\n",
    "# Objects\n",
    "# Hold data, have methods"
   ]
  },
  {
   "cell_type": "code",
   "execution_count": 7,
   "metadata": {},
   "outputs": [
    {
     "name": "stdout",
     "output_type": "stream",
     "text": [
      "False\n",
      "True\n"
     ]
    }
   ],
   "source": [
    "x = 4.5 # creates PyIntObject which has value variable\n",
    "\n",
    "#now when we say \n",
    "x = 3 # breaks the point to PyIntOjbect and add a new ojbect PyFloatObject\n",
    "# PyIntObject deleted by Python GC\n",
    "y = x\n",
    "\n",
    "# check if x, y point to same object\n",
    "y = 3.0\n",
    "print(x is y)\n",
    "\n",
    "# x==y checks the numericalvalue\n",
    "print(x == y)\n",
    "\n"
   ]
  },
  {
   "cell_type": "code",
   "execution_count": 8,
   "metadata": {
    "collapsed": true
   },
   "outputs": [],
   "source": [
    "# use memory digram to trace values of variables in trick situations\n",
    "# e.g. x=7; y=x; x=3"
   ]
  },
  {
   "cell_type": "code",
   "execution_count": 9,
   "metadata": {},
   "outputs": [
    {
     "name": "stdout",
     "output_type": "stream",
     "text": [
      "2\n",
      "5\n",
      "8\n",
      "11\n"
     ]
    }
   ],
   "source": [
    "# range(start, stop[, step]) [, xxx] means optional\n",
    "\n",
    "# can also use while\n",
    "for i in range(2,12,3):\n",
    "    print(i)"
   ]
  },
  {
   "cell_type": "code",
   "execution_count": 10,
   "metadata": {},
   "outputs": [
    {
     "name": "stdout",
     "output_type": "stream",
     "text": [
      "0\n",
      "11\n",
      "2\n",
      "13\n",
      "4\n"
     ]
    }
   ],
   "source": [
    "# Conditions\n",
    "\n",
    "# i = 0\n",
    "# while i<10\n",
    "# how many times i evaulated \n",
    "# answer 11, because we need to have 10 condition satisfactions and 1 false condition evaulations\n",
    "\n",
    "# print even values i%2==0\n",
    "# print odds with + 10 \n",
    "for i in range(0,5):\n",
    "    if i%2==0:\n",
    "        print(i)\n",
    "    else:\n",
    "        print(i+10)\n"
   ]
  },
  {
   "cell_type": "code",
   "execution_count": 11,
   "metadata": {},
   "outputs": [
    {
     "name": "stdout",
     "output_type": "stream",
     "text": [
      "7\n"
     ]
    }
   ],
   "source": [
    "# Functions\n",
    "#\"def\" is a keyword \n",
    "# no need to define type for arguments nor return\n",
    "#   advantage: easy to read\n",
    "#   disadvantage: if wront type of data passed exception\n",
    "#      Problem identified at run time, C C++ identify at compile time\n",
    "\n",
    "# when functions don't return anythin, it actually return None\n",
    "\n",
    "# tricky questions\n",
    "def inc_val(val):\n",
    "    val = val + 1\n",
    "    \n",
    "x = 7\n",
    "inc_val(x)\n",
    "print(x)\n",
    "\n",
    "# the answer would still be 7, because\n",
    "# first x points to PyIntOjbect with value 7\n",
    "# second when inc_val invoked, initially val point to the PyIntOjbect pointed by x\n",
    "# but when val = val + 1 called, a new object having value 8 is created and x is still pointing to one with value 7\n",
    "# at the end of function call val is deleted\n"
   ]
  },
  {
   "cell_type": "code",
   "execution_count": null,
   "metadata": {
    "collapsed": true
   },
   "outputs": [],
   "source": [
    "x = 6\n",
    "def func_1(val):\n",
    "    val = val+1\n",
    "func_1(x)    \n",
    "\n",
    "# this creates first x(reference) and point to PyIntObject with value 6             x --> (6)\n",
    "# when invoked func_1 with x, a new variable val pointing to same PyIntObj is created \n",
    "#        x --------|\n",
    "#                  (6)\n",
    "#        val ------|\n",
    "# then val is updated\n",
    "#        x---------|\n",
    "#                  (6)\n",
    "#        val -------------(7 (result of val+1))\n",
    "# link between x and val broken\n",
    "# so printing x will return 6"
   ]
  }
 ],
 "metadata": {
  "kernelspec": {
   "display_name": "Python 3",
   "language": "python",
   "name": "python3"
  },
  "language_info": {
   "codemirror_mode": {
    "name": "ipython",
    "version": 3
   },
   "file_extension": ".py",
   "mimetype": "text/x-python",
   "name": "python",
   "nbconvert_exporter": "python",
   "pygments_lexer": "ipython3",
   "version": "3.4.3"
  }
 },
 "nbformat": 4,
 "nbformat_minor": 2
}
