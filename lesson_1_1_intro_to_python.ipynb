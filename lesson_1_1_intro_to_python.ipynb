{
 "cells": [
  {
   "cell_type": "markdown",
   "metadata": {
    "collapsed": true
   },
   "source": [
    "# Introduction to Python \n",
    "\n",
    "* Python is a dynamically typed language, meaning that it is not strongly typed as C or C++. This means that variable created do not have specific datatypes attached.\n",
    "* When you create a variable, an objects pointed by that variable is created (e.g. x = 3 creates a PyIntObject)"
   ]
  },
  {
   "cell_type": "code",
   "execution_count": 1,
   "metadata": {},
   "outputs": [
    {
     "name": "stdout",
     "output_type": "stream",
     "text": [
      "False\n",
      "True\n"
     ]
    }
   ],
   "source": [
    "x = 4.5 # creates PyIntObject which has value variable\n",
    "\n",
    "# When we change the value, it breaks the pointer \n",
    "# to PyIntOjbect and add a new PyFloatObject object\n",
    "x = 3 \n",
    "\n",
    "# PyIntObject with value 4.5 is deleted by Python GC\n",
    "# because there's no variable pointing to it\n",
    "y = x\n",
    "\n",
    "# Check if x, y point to same object\n",
    "y = 3.0\n",
    "print(x is y)\n",
    "\n",
    "# Checks if x and y has the same numerical value\n",
    "print(x == y)\n",
    "\n"
   ]
  },
  {
   "cell_type": "markdown",
   "metadata": {
    "collapsed": true
   },
   "source": [
    "**Tips**: Use memory digram to trace values of variables in tricky situations (e.g. x=7; y=x; x=3)\n",
    "\n",
    "## Loops and conditions"
   ]
  },
  {
   "cell_type": "code",
   "execution_count": 2,
   "metadata": {},
   "outputs": [
    {
     "name": "stdout",
     "output_type": "stream",
     "text": [
      "2\n",
      "5\n",
      "8\n",
      "11\n"
     ]
    }
   ],
   "source": [
    "# Print the values starting from 2 to 11 with a step size of 3\n",
    "\n",
    "# range(start, stop[, step]) : [, step] means optional\n",
    "# This can also be implemented using while\n",
    "for i in range(2,12,3):\n",
    "    print(i)"
   ]
  },
  {
   "cell_type": "code",
   "execution_count": 10,
   "metadata": {},
   "outputs": [
    {
     "name": "stdout",
     "output_type": "stream",
     "text": [
      "0\n",
      "11\n",
      "2\n",
      "13\n",
      "4\n"
     ]
    }
   ],
   "source": [
    "# Conditions\n",
    "\n",
    "# i = 0\n",
    "# while i<10\n",
    "# how many times i evaulated ?\n",
    "# answer 11, because we need to have 10 condition satisfactions and 1 false condition evaulations\n",
    "\n",
    "# print even values i%2==0\n",
    "# print odds with + 10 \n",
    "for i in range(0,5):\n",
    "    if i%2==0:\n",
    "        print(i)\n",
    "    else:\n",
    "        print(i+10)\n"
   ]
  },
  {
   "cell_type": "code",
   "execution_count": 11,
   "metadata": {},
   "outputs": [
    {
     "name": "stdout",
     "output_type": "stream",
     "text": [
      "7\n"
     ]
    }
   ],
   "source": [
    "# Functions\n",
    "#\"def\" is a keyword \n",
    "# no need to define type for arguments nor return\n",
    "#   advantage: easy to read\n",
    "#   disadvantage: if wront type of data passed exception\n",
    "#      Problem identified at run time, C C++ identify at compile time\n",
    "\n",
    "# when functions don't return anythin, it actually return None\n",
    "\n",
    "# tricky questions\n",
    "def inc_val(val):\n",
    "    val = val + 1\n",
    "    \n",
    "x = 7\n",
    "inc_val(x)\n",
    "print(x)\n",
    "\n",
    "# the answer would still be 7, because\n",
    "# first x points to PyIntOjbect with value 7\n",
    "# second when inc_val invoked, initially val point to the PyIntOjbect pointed by x\n",
    "# but when val = val + 1 called, a new object having value 8 is created and x is still pointing to one with value 7\n",
    "# at the end of function call val is deleted\n"
   ]
  },
  {
   "cell_type": "code",
   "execution_count": null,
   "metadata": {
    "collapsed": true
   },
   "outputs": [],
   "source": [
    "x = 6\n",
    "def func_1(val):\n",
    "    val = val+1\n",
    "func_1(x)    \n",
    "\n",
    "# this creates first x(reference) and point to PyIntObject with value 6             x --> (6)\n",
    "# when invoked func_1 with x, a new variable val pointing to same PyIntObj is created \n",
    "#        x --------|\n",
    "#                  (6)\n",
    "#        val ------|\n",
    "# then val is updated\n",
    "#        x---------|\n",
    "#                  (6)\n",
    "#        val -------------(7 (result of val+1))\n",
    "# link between x and val broken\n",
    "# so printing x will return 6"
   ]
  }
 ],
 "metadata": {
  "kernelspec": {
   "display_name": "Python 3",
   "language": "python",
   "name": "python3"
  },
  "language_info": {
   "codemirror_mode": {
    "name": "ipython",
    "version": 3
   },
   "file_extension": ".py",
   "mimetype": "text/x-python",
   "name": "python",
   "nbconvert_exporter": "python",
   "pygments_lexer": "ipython3",
   "version": "3.4.3"
  }
 },
 "nbformat": 4,
 "nbformat_minor": 2
}
